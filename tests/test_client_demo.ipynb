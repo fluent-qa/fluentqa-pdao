{
 "cells": [
  {
   "attachments": {},
   "cell_type": "markdown",
   "metadata": {},
   "source": [
    "## 使用介绍\n",
    "\n",
    "1. 创建表定义\n",
    "2. 数据库客户端创建/创建表\n",
    "3. 数据写入\n",
    "4. 数据查询/SQL查询/分页/结果转换\n",
    "5. 数据更新/更新后数据\n",
    "6. 数据删除/软删除"
   ]
  },
  {
   "cell_type": "code",
   "execution_count": null,
   "metadata": {},
   "outputs": [],
   "source": [
    "### 1. 创建表"
   ]
  },
  {
   "cell_type": "code",
   "execution_count": null,
   "metadata": {},
   "outputs": [],
   "source": [
    "class Hero(SQLModel, table=True):\n",
    "    id: int | None = Field(default=None, primary_key=True)\n",
    "    name: str\n",
    "    secret_name: str\n",
    "    age: int | None = None"
   ]
  },
  {
   "attachments": {},
   "cell_type": "markdown",
   "metadata": {},
   "source": [
    "### 2. 数据库客户端创建/创建表"
   ]
  },
  {
   "cell_type": "code",
   "execution_count": null,
   "metadata": {},
   "outputs": [],
   "source": [
    "db_config = DatabaseConfig(url=\"sqlite:///test.db\")\n",
    "dao = DatabaseClient(config=db_config)\n",
    "def test_init_database():\n",
    "    init_pg_database(dao)"
   ]
  },
  {
   "attachments": {},
   "cell_type": "markdown",
   "metadata": {},
   "source": [
    "### 3.写入数据\n",
    "- 单条记录\n",
    "- 多条记录"
   ]
  },
  {
   "cell_type": "code",
   "execution_count": null,
   "metadata": {},
   "outputs": [],
   "source": ""
  },
  {
   "attachments": {},
   "cell_type": "markdown",
   "metadata": {},
   "source": [
    "## 4. 查询\n",
    "\n",
    "- SQL/返回数据转换\n",
    "- 绑定变量\n",
    "- 可变查询\n",
    "- 分页查询"
   ]
  },
  {
   "cell_type": "code",
   "execution_count": null,
   "metadata": {},
   "outputs": [],
   "source": [
    "def test_query_all():\n",
    "    sql = \"\"\"\n",
    "    select * from hero\n",
    "    \"\"\"\n",
    "    raw_result = dao.query(sql)\n",
    "    result = SqlResultMapper.sql_result_to_model(raw_result, Hero)\n",
    "    print(result)\n",
    "\n",
    "    objects = dao.query_for_objects(sql, Hero)\n",
    "    print(objects)\n",
    "\n",
    "def test_query_bind_params():\n",
    "    sql = \"\"\"\n",
    "    select * from hero where name=:name\n",
    "    \"\"\"\n",
    "    raw_result = dao.query(sql, **{\"name\": \"test6\"})\n",
    "    result = SqlResultMapper.sql_result_to_model(raw_result, Hero)\n",
    "    print(result)\n",
    "    objects = dao.query_for_objects(sql, Hero,**{\"name\": \"test6\"})\n",
    "    print(objects)\n",
    "\n",
    "def test_use_sqlmodel_statement():\n",
    "    s = select(Hero).where(Hero.name == \"test6\")\n",
    "    result = dao.query_by_statement(s)\n",
    "    print(result[0])\n",
    "\n",
    "def test_find_by():\n",
    "    result = dao.find_by(Hero, **{\"name\": \"test6\"})\n",
    "    print(result)"
   ]
  }
 ],
 "metadata": {
  "kernelspec": {
   "display_name": ".venv",
   "language": "python",
   "name": "python3"
  },
  "language_info": {
   "codemirror_mode": {
    "name": "ipython",
    "version": 3
   },
   "file_extension": ".py",
   "mimetype": "text/x-python",
   "name": "python",
   "nbconvert_exporter": "python",
   "pygments_lexer": "ipython3",
   "version": "3.10.6"
  },
  "orig_nbformat": 4
 },
 "nbformat": 4,
 "nbformat_minor": 2
}
