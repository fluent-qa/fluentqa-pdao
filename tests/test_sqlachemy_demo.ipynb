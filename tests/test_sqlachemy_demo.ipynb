{
 "cells": [
  {
   "attachments": {},
   "cell_type": "markdown",
   "metadata": {},
   "source": [
    "# Python-SQL \n",
    "\n",
    "## Plain SQL\n",
    "- SQL Statement\n",
    "  - Select\n",
    "  - Delete\n",
    "  - Update\n",
    "  - Insert\n",
    "- Store Procedure\n",
    "- How to Execute\n",
    "\n",
    "## ORM\n",
    "- sqlalchemy\n",
    "- sqlmodel"
   ]
  },
  {
   "attachments": {},
   "cell_type": "markdown",
   "metadata": {},
   "source": [
    "## Create Engine"
   ]
  },
  {
   "cell_type": "code",
   "execution_count": 4,
   "metadata": {},
   "outputs": [
    {
     "name": "stdout",
     "output_type": "stream",
     "text": [
      "Engine(sqlite:///test.db)\n"
     ]
    }
   ],
   "source": [
    "\n",
    "from sqlmodel import create_engine,text\n",
    "\n",
    "url = \"sqlite:///test.db\"\n",
    "engine = create_engine(url, echo=True)  ## future engine for async engine\n",
    "print(engine)\n"
   ]
  },
  {
   "attachments": {},
   "cell_type": "markdown",
   "metadata": {},
   "source": [
    "## Create Table"
   ]
  },
  {
   "cell_type": "code",
   "execution_count": 5,
   "metadata": {},
   "outputs": [
    {
     "name": "stdout",
     "output_type": "stream",
     "text": [
      "2023-05-16 13:10:36,646 INFO sqlalchemy.engine.Engine BEGIN (implicit)\n",
      "2023-05-16 13:10:36,647 INFO sqlalchemy.engine.Engine PRAGMA main.table_info(\"students\")\n",
      "2023-05-16 13:10:36,648 INFO sqlalchemy.engine.Engine [raw sql] ()\n",
      "2023-05-16 13:10:36,650 INFO sqlalchemy.engine.Engine COMMIT\n"
     ]
    }
   ],
   "source": [
    "from sqlalchemy import Table, Column, Integer, String, MetaData\n",
    "meta = MetaData()\n",
    "\n",
    "students = Table(\n",
    "   'students', meta, \n",
    "   Column('id', Integer, primary_key = True), \n",
    "   Column('name', String), \n",
    "   Column('lastname', String), \n",
    ")\n",
    "meta.create_all(engine)"
   ]
  },
  {
   "attachments": {},
   "cell_type": "markdown",
   "metadata": {},
   "source": [
    "## SQL 操作\n",
    "1. insert\n",
    "2. select\n",
    "   1. from text\n",
    "   2. from orm model\n",
    "3. delete"
   ]
  },
  {
   "cell_type": "code",
   "execution_count": 8,
   "metadata": {},
   "outputs": [
    {
     "name": "stdout",
     "output_type": "stream",
     "text": [
      "2023-05-16 13:11:17,806 INFO sqlalchemy.engine.Engine BEGIN (implicit)\n",
      "2023-05-16 13:11:17,807 INFO sqlalchemy.engine.Engine INSERT INTO students (name, lastname) VALUES (?, ?)\n",
      "2023-05-16 13:11:17,808 INFO sqlalchemy.engine.Engine [generated in 0.00210s] (('test4', 'test4'), ('test5', 'test5'))\n",
      "<sqlalchemy.engine.cursor.CursorResult object at 0x109b70340>\n",
      "SELECT students.id, students.name, students.lastname \n",
      "FROM students\n",
      "2023-05-16 13:11:17,812 INFO sqlalchemy.engine.Engine SELECT students.id, students.name, students.lastname \n",
      "FROM students\n",
      "2023-05-16 13:11:17,813 INFO sqlalchemy.engine.Engine [cached since 29.48s ago] ()\n",
      "(1, 'test4', 'test4')\n",
      "(2, 'test5', 'test5')\n",
      "2023-05-16 13:11:17,815 INFO sqlalchemy.engine.Engine ROLLBACK\n"
     ]
    }
   ],
   "source": [
    "# ins = students.insert()\n",
    "# print(str(ins))\n",
    "# print(ins.compile().params)\n",
    "conn = engine.connect()\n",
    "result = conn.execute(students.insert(), [\n",
    "   {'name':'test4', 'lastname' : 'test4'},\n",
    "   {'name':'test5', 'lastname' : 'test5'},\n",
    "])\n",
    "print(result)\n",
    "s = students.select()\n",
    "print(str(s))\n",
    "result = conn.execute(s)\n",
    "rows = result.fetchall()\n",
    "for row in rows:\n",
    "   print (row)\n",
    "conn.close()\n"
   ]
  },
  {
   "attachments": {},
   "cell_type": "markdown",
   "metadata": {},
   "source": [
    "## How to Use Session\n",
    "\n",
    "- Create\n",
    "- Use Session to join and filter"
   ]
  },
  {
   "cell_type": "code",
   "execution_count": 9,
   "metadata": {},
   "outputs": [
    {
     "name": "stdout",
     "output_type": "stream",
     "text": [
      "<sqlalchemy.orm.session.Session object at 0x10991f130>\n",
      "2023-05-16 13:13:29,947 INFO sqlalchemy.engine.Engine BEGIN (implicit)\n",
      "2023-05-16 13:13:29,948 INFO sqlalchemy.engine.Engine UPDATE students SET lastname=? WHERE 0 = 1\n",
      "2023-05-16 13:13:29,950 INFO sqlalchemy.engine.Engine [generated in 0.00178s] ('test4 updated',)\n"
     ]
    },
    {
     "data": {
      "text/plain": [
       "0"
      ]
     },
     "execution_count": 9,
     "metadata": {},
     "output_type": "execute_result"
    }
   ],
   "source": [
    "from sqlalchemy.orm import sessionmaker\n",
    "Session = sessionmaker(bind = engine)\n",
    "session = Session()\n",
    "print(session)\n",
    "session.query(students).filter(students.name == 'test4').update({'lastname': 'test4 updated'})  \n"
   ]
  },
  {
   "attachments": {},
   "cell_type": "markdown",
   "metadata": {},
   "source": [
    "## Summary\n",
    "\n",
    "- SQL, How to Write SQL\n",
    "- How to Execute SQL\n",
    "- Basic SQL\n",
    "- SQL + Execution = Result\n",
    "- ORM, to define table and fields to build SQL\n",
    "- Operation: SQL Operation\n",
    "- SQL Functions: Doesn't Matter, Use Router to handler or decorator to handler"
   ]
  },
  {
   "attachments": {},
   "cell_type": "markdown",
   "metadata": {},
   "source": []
  }
 ],
 "metadata": {
  "kernelspec": {
   "display_name": ".venv",
   "language": "python",
   "name": "python3"
  },
  "language_info": {
   "codemirror_mode": {
    "name": "ipython",
    "version": 3
   },
   "file_extension": ".py",
   "mimetype": "text/x-python",
   "name": "python",
   "nbconvert_exporter": "python",
   "pygments_lexer": "ipython3",
   "version": "3.10.6"
  },
  "orig_nbformat": 4
 },
 "nbformat": 4,
 "nbformat_minor": 2
}
